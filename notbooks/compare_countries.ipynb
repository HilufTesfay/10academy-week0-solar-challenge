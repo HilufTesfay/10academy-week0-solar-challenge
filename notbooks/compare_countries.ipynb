{
 "cells": [
  {
   "cell_type": "markdown",
   "id": "48732bb7",
   "metadata": {},
   "source": [
    "# **Data-Driven Insights for Solar Energy: Analysis, Findings, and Strategic Recommendations (Benin, Sierraleon and Togo)**"
   ]
  },
  {
   "cell_type": "markdown",
   "id": "6402cbe1",
   "metadata": {},
   "source": [
    "## **Business Overview**\n",
    "\n",
    "MoonLight Energy Solutions aims to develop a strategic approach to significantlyenhance its operational efficiency and sustainability through targeted solarinvestments. As an Analytics Engineer at MoonLight Energy Solutions, my task is to perform a quick analysis of an environmental measurement provided bytheengineering team and translate your observation as a strategy report."
   ]
  },
  {
   "cell_type": "markdown",
   "id": "986d7534",
   "metadata": {},
   "source": [
    "## **Understanding the Business Objective**\n",
    "\n",
    "### **Why Analyze Solar Data?**\n",
    "\n",
    "MoonLight Energy Solutions aims to **enhance operational efficiency and sustainability** by strategically investing in solar energy. Our primary objective is to:\n",
    "\n",
    "- **Identify high-potential regions** for solar installations.\n",
    "- **Analyze the impact of environmental factors** on solar panel performance.\n",
    "- **Optimize maintenance strategies** to improve energy output."
   ]
  },
  {
   "cell_type": "markdown",
   "id": "eb9a390c",
   "metadata": {},
   "source": [
    "\n",
    "### **Dataset Overview**  \n",
    "\n",
    "The dataset contains solar radiation  measurements, weather conditions and their impact on solar energy generation. Each row represents a recorded observation at specific time with key variables related to solar irradiance, temperature, pressure, humidity,Precipitation, wind conditions, and sensor readings of radation,and temprature.  \n",
    "\n",
    "#### **Key Variables:**  \n",
    "- **Timestamp (yyyy-mm-dd hh:mm):** Date and time of each recorded observation.  \n",
    "- **Solar Irradiance Metrics:**  \n",
    "  - **GHI (W/m²):** Global Horizontal Irradiance—total solar radiation on a horizontal surface.  \n",
    "  - **DNI (W/m²):** Direct Normal Irradiance—solar radiation received per unit area perpendicular to sunlight.  \n",
    "  - **DHI (W/m²):** Diffuse Horizontal Irradiance—solar radiation received indirectly due to scattering.  \n",
    "  - **ModA / ModB (W/m²):** Irradiance measurements from specific sensors or modules.  \n",
    "- **Environmental Conditions:**  \n",
    "  - **Tamb (°C):** Ambient temperature.  \n",
    "  - **RH (%):** Relative humidity.  \n",
    "  - **BP (hPa):** Barometric pressure.  \n",
    "- **Wind Data:**  \n",
    "  - **WS (m/s):** Wind speed.  \n",
    "  - **WSgust (m/s):** Maximum wind gust speed.  \n",
    "  - **WSstdev (m/s):** Standard deviation of wind speed (variability).  \n",
    "  - **WD (°N):** Wind direction in degrees from north.  \n",
    "  - **WDstdev:** Standard deviation of wind direction.  \n",
    "- **Cleaning & Precipitation:**  \n",
    "  - **Cleaning (1/0):** Indicates whether a cleaning event occurred.  \n",
    "  - **Precipitation (mm/min):** Rainfall rate measured in millimeters per minute.  \n",
    "- **Module Temperature:**  \n",
    "  - **TModA / TModB (°C):** Temperatures of individual solar modules.  \n",
    "- **Comments:** A column for additional observations or notes.  \n",
    "\n",
    "This dataset serves as a foundation for analyzing solar energy potential, identifying trends, and optimizing maintenance strategies.\n"
   ]
  },
  {
   "cell_type": "markdown",
   "id": "79beee9f",
   "metadata": {},
   "source": [
    "# **Environment Setup**\n",
    "Before deep dive in to analysis of the data ,we neee to import all neccessary packages and modules."
   ]
  },
  {
   "cell_type": "code",
   "execution_count": null,
   "id": "d575f484",
   "metadata": {},
   "outputs": [],
   "source": [
    "import pandas as pd\n",
    "import matplotlib.pyplot as plt\n",
    "import seaborn as sns\n",
    "import numpy as np\n",
    "from scipy.stats import zscore"
   ]
  },
  {
   "cell_type": "markdown",
   "id": "4feaf809",
   "metadata": {},
   "source": [
    "# **Data Loading**\n",
    "we start analysis by loading dataset from the country\n"
   ]
  },
  {
   "cell_type": "code",
   "execution_count": null,
   "id": "adeffb4e",
   "metadata": {},
   "outputs": [],
   "source": [
    "counries=['benin','sierraleone',\"togo\"]\n",
    "def load_data(country: str)-> pd.DataFrame:\n",
    "    \"\"\"Loading the data from the processed csv file\"\"\"\n",
    "    df = pd.read_csv(f\"../data/processed/{country}_clean.csv\")\n",
    "    df['country'] = country\n",
    "    return df\n",
    "# Load the data and merge into a single DataFrame\n",
    "full_df=pd.concat([load_data(country) for country in counries],ignore_index=True)\n"
   ]
  }
 ],
 "metadata": {
  "kernelspec": {
   "display_name": "venv",
   "language": "python",
   "name": "python3"
  },
  "language_info": {
   "name": "python",
   "version": "3.11.9"
  }
 },
 "nbformat": 4,
 "nbformat_minor": 5
}
