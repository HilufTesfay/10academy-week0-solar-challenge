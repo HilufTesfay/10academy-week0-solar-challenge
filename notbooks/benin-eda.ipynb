{
 "cells": [
  {
   "cell_type": "markdown",
   "id": "65ab500b",
   "metadata": {},
   "source": [
    "import packages"
   ]
  },
  {
   "cell_type": "code",
   "execution_count": 6,
   "id": "cb0d3129",
   "metadata": {},
   "outputs": [
    {
     "name": "stderr",
     "output_type": "stream",
     "text": [
      "Matplotlib is building the font cache; this may take a moment.\n"
     ]
    }
   ],
   "source": [
    "import pandas as pd\n",
    "import matplotlib.pyplot as plt\n",
    "import seaborn as sns\n",
    "from scipy.stats import zscore\n"
   ]
  },
  {
   "cell_type": "markdown",
   "id": "2166b321",
   "metadata": {},
   "source": [
    "loading data"
   ]
  },
  {
   "cell_type": "code",
   "execution_count": null,
   "id": "126c1cef",
   "metadata": {},
   "outputs": [],
   "source": [
    "df=pd.read_csv(\"../data/raw/benin-malanville.csv\")\n",
    "df.head()\n"
   ]
  },
  {
   "cell_type": "markdown",
   "id": "cc34a8e6",
   "metadata": {},
   "source": [
    "looking missing value"
   ]
  },
  {
   "cell_type": "code",
   "execution_count": null,
   "id": "91b8b25a",
   "metadata": {},
   "outputs": [],
   "source": [
    "df.isna().sum()"
   ]
  },
  {
   "cell_type": "markdown",
   "id": "f46cc13f",
   "metadata": {},
   "source": [
    "Describe stat"
   ]
  },
  {
   "cell_type": "code",
   "execution_count": null,
   "id": "2858d378",
   "metadata": {},
   "outputs": [],
   "source": [
    "df.describe()"
   ]
  },
  {
   "cell_type": "markdown",
   "id": "9ec165ef",
   "metadata": {},
   "source": [
    "Outlier Detection"
   ]
  },
  {
   "cell_type": "code",
   "execution_count": null,
   "id": "d943bb5e",
   "metadata": {},
   "outputs": [],
   "source": [
    "z_scores = df[['GHI', 'DNI', 'DHI']].apply(zscore)\n",
    "df[(abs(z_scores) > 3).any(axis=1)]\n"
   ]
  },
  {
   "cell_type": "markdown",
   "id": "7ba454f0",
   "metadata": {},
   "source": [
    "ploting"
   ]
  },
  {
   "cell_type": "code",
   "execution_count": null,
   "id": "601bc732",
   "metadata": {},
   "outputs": [],
   "source": [
    "plt.figure(figsize=(10,5))\n",
    "sns.lineplot(x='Timestamp', y='GHI', data=df)\n",
    "plt.xticks(rotation=45)\n",
    "plt.title('GHI Over Time')\n",
    "plt.show()\n"
   ]
  }
 ],
 "metadata": {
  "kernelspec": {
   "display_name": "venv",
   "language": "python",
   "name": "python3"
  },
  "language_info": {
   "codemirror_mode": {
    "name": "ipython",
    "version": 3
   },
   "file_extension": ".py",
   "mimetype": "text/x-python",
   "name": "python",
   "nbconvert_exporter": "python",
   "pygments_lexer": "ipython3",
   "version": "3.11.9"
  }
 },
 "nbformat": 4,
 "nbformat_minor": 5
}
