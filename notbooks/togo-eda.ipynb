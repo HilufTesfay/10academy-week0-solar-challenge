{
 "cells": [
  {
   "cell_type": "markdown",
   "id": "1efb2330",
   "metadata": {},
   "source": [
    "import all packages"
   ]
  },
  {
   "cell_type": "code",
   "execution_count": 1,
   "id": "a6da8379",
   "metadata": {},
   "outputs": [],
   "source": [
    "import pandas as pd\n",
    "from scipy.stats import zscore"
   ]
  },
  {
   "cell_type": "markdown",
   "id": "ebb07331",
   "metadata": {},
   "source": [
    "data loading"
   ]
  },
  {
   "cell_type": "code",
   "execution_count": null,
   "id": "158177b8",
   "metadata": {},
   "outputs": [],
   "source": [
    "df=pd.read_csv(\"../data/raw/togo-dapaong_qc.csv\")\n",
    "df.head()"
   ]
  },
  {
   "cell_type": "markdown",
   "id": "eacd9156",
   "metadata": {},
   "source": [
    "checking missing value"
   ]
  },
  {
   "cell_type": "code",
   "execution_count": null,
   "id": "557c3f4a",
   "metadata": {},
   "outputs": [],
   "source": [
    "df.isna().sum()"
   ]
  },
  {
   "cell_type": "markdown",
   "id": "0a1cac07",
   "metadata": {},
   "source": [
    "describe state"
   ]
  },
  {
   "cell_type": "code",
   "execution_count": null,
   "id": "35762b58",
   "metadata": {},
   "outputs": [],
   "source": [
    "df.describe()"
   ]
  },
  {
   "cell_type": "markdown",
   "id": "2ec05dec",
   "metadata": {},
   "source": [
    "outlier detection"
   ]
  },
  {
   "cell_type": "code",
   "execution_count": null,
   "id": "348ba609",
   "metadata": {},
   "outputs": [],
   "source": [
    "z_scores = df[['GHI', 'DNI', 'DHI']].apply(zscore)\n",
    "df[(abs(z_scores) > 3).any(axis=1)]\n"
   ]
  },
  {
   "cell_type": "markdown",
   "id": "9c989dec",
   "metadata": {},
   "source": [
    "plotting"
   ]
  },
  {
   "cell_type": "code",
   "execution_count": null,
   "id": "7ba4d96b",
   "metadata": {},
   "outputs": [],
   "source": [
    "import seaborn as sns\n",
    "import matplotlib.pyplot as plt\n",
    "import pandas as pd\n",
    "df=pd.read_csv(\"../data/raw/togo-dapaong_qc.csv\")\n",
    "plt.figure(figsize=(10,5))\n",
    "sns.lineplot(x='Timestamp', y='GHI', data=df)\n",
    "plt.title('GHI Over Time')\n",
    "plt.xlabel('Timestamp')\n",
    "plt.ylabel('GHI')\n",
    "plt.xticks(rotation=45)\n",
    "plt.show()"
   ]
  }
 ],
 "metadata": {
  "kernelspec": {
   "display_name": "venv",
   "language": "python",
   "name": "python3"
  },
  "language_info": {
   "codemirror_mode": {
    "name": "ipython",
    "version": 3
   },
   "file_extension": ".py",
   "mimetype": "text/x-python",
   "name": "python",
   "nbconvert_exporter": "python",
   "pygments_lexer": "ipython3",
   "version": "3.11.9"
  }
 },
 "nbformat": 4,
 "nbformat_minor": 5
}
